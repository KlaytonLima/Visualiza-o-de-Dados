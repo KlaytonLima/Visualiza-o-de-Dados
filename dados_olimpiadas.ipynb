{
 "cells": [
  {
   "cell_type": "markdown",
   "id": "0de9dc44-3830-4884-85e7-643dae888516",
   "metadata": {},
   "source": [
    "Projeto de Visualização de Dados criado em conjundo com a instituição Unicesumar.\n",
    "Conteúdo do curso de Banco de Dados."
   ]
  },
  {
   "cell_type": "code",
   "execution_count": 5,
   "id": "014cf884-1d70-4434-936c-ea95c1ee6c3d",
   "metadata": {},
   "outputs": [],
   "source": [
    "# Importando bibliotecas\n",
    "import pandas as pd"
   ]
  },
  {
   "cell_type": "code",
   "execution_count": 24,
   "id": "f150d2bd-0816-4c9b-b0ff-f653e5a830f5",
   "metadata": {},
   "outputs": [],
   "source": [
    "# Importando CSV\n",
    "df_olimpiadas = pd.read_csv('dataset_olympics.csv')\n",
    "df_regiao = pd.read_csv('noc_region.csv')"
   ]
  },
  {
   "cell_type": "code",
   "execution_count": 36,
   "id": "7e824383-12d7-45a2-b399-ac2558df92fa",
   "metadata": {},
   "outputs": [
    {
     "name": "stdout",
     "output_type": "stream",
     "text": [
      "Data Frame Olimpiadas\n"
     ]
    },
    {
     "data": {
      "text/html": [
       "<div>\n",
       "<style scoped>\n",
       "    .dataframe tbody tr th:only-of-type {\n",
       "        vertical-align: middle;\n",
       "    }\n",
       "\n",
       "    .dataframe tbody tr th {\n",
       "        vertical-align: top;\n",
       "    }\n",
       "\n",
       "    .dataframe thead th {\n",
       "        text-align: right;\n",
       "    }\n",
       "</style>\n",
       "<table border=\"1\" class=\"dataframe\">\n",
       "  <thead>\n",
       "    <tr style=\"text-align: right;\">\n",
       "      <th></th>\n",
       "      <th>ID</th>\n",
       "      <th>Name</th>\n",
       "      <th>Sex</th>\n",
       "      <th>Age</th>\n",
       "      <th>Height</th>\n",
       "      <th>Weight</th>\n",
       "      <th>Team</th>\n",
       "      <th>NOC</th>\n",
       "      <th>Games</th>\n",
       "      <th>Year</th>\n",
       "      <th>Season</th>\n",
       "      <th>City</th>\n",
       "      <th>Sport</th>\n",
       "      <th>Event</th>\n",
       "      <th>Medal</th>\n",
       "    </tr>\n",
       "  </thead>\n",
       "  <tbody>\n",
       "    <tr>\n",
       "      <th>69995</th>\n",
       "      <td>35656</td>\n",
       "      <td>Stuart Fitzsimmons</td>\n",
       "      <td>M</td>\n",
       "      <td>19.0</td>\n",
       "      <td>NaN</td>\n",
       "      <td>NaN</td>\n",
       "      <td>Great Britain</td>\n",
       "      <td>GBR</td>\n",
       "      <td>1976 Winter</td>\n",
       "      <td>1976</td>\n",
       "      <td>Winter</td>\n",
       "      <td>Innsbruck</td>\n",
       "      <td>Alpine Skiing</td>\n",
       "      <td>Alpine Skiing Men's Giant Slalom</td>\n",
       "      <td>NaN</td>\n",
       "    </tr>\n",
       "    <tr>\n",
       "      <th>69996</th>\n",
       "      <td>35656</td>\n",
       "      <td>Stuart Fitzsimmons</td>\n",
       "      <td>M</td>\n",
       "      <td>19.0</td>\n",
       "      <td>NaN</td>\n",
       "      <td>NaN</td>\n",
       "      <td>Great Britain</td>\n",
       "      <td>GBR</td>\n",
       "      <td>1976 Winter</td>\n",
       "      <td>1976</td>\n",
       "      <td>Winter</td>\n",
       "      <td>Innsbruck</td>\n",
       "      <td>Alpine Skiing</td>\n",
       "      <td>Alpine Skiing Men's Slalom</td>\n",
       "      <td>NaN</td>\n",
       "    </tr>\n",
       "    <tr>\n",
       "      <th>69997</th>\n",
       "      <td>35657</td>\n",
       "      <td>David Thomas \"Dave\" Fitzsimons</td>\n",
       "      <td>M</td>\n",
       "      <td>26.0</td>\n",
       "      <td>170.0</td>\n",
       "      <td>65.0</td>\n",
       "      <td>Australia</td>\n",
       "      <td>AUS</td>\n",
       "      <td>1976 Summer</td>\n",
       "      <td>1976</td>\n",
       "      <td>Summer</td>\n",
       "      <td>Montreal</td>\n",
       "      <td>Athletics</td>\n",
       "      <td>Athletics Men's 10,000 metres</td>\n",
       "      <td>NaN</td>\n",
       "    </tr>\n",
       "    <tr>\n",
       "      <th>69998</th>\n",
       "      <td>35657</td>\n",
       "      <td>David Thomas \"Dave\" Fitzsimons</td>\n",
       "      <td>M</td>\n",
       "      <td>30.0</td>\n",
       "      <td>170.0</td>\n",
       "      <td>65.0</td>\n",
       "      <td>Australia</td>\n",
       "      <td>AUS</td>\n",
       "      <td>1980 Summer</td>\n",
       "      <td>1980</td>\n",
       "      <td>Summer</td>\n",
       "      <td>Moskva</td>\n",
       "      <td>Athletics</td>\n",
       "      <td>Athletics Men's 5,000 metres</td>\n",
       "      <td>NaN</td>\n",
       "    </tr>\n",
       "    <tr>\n",
       "      <th>69999</th>\n",
       "      <td>35658</td>\n",
       "      <td>Marek Fiurek</td>\n",
       "      <td>M</td>\n",
       "      <td>23.0</td>\n",
       "      <td>180.0</td>\n",
       "      <td>68.0</td>\n",
       "      <td>Czech Republic</td>\n",
       "      <td>CZE</td>\n",
       "      <td>1998 Winter</td>\n",
       "      <td>1998</td>\n",
       "      <td>Winter</td>\n",
       "      <td>Nagano</td>\n",
       "      <td>Nordic Combined</td>\n",
       "      <td>Nordic Combined Men's Team</td>\n",
       "      <td>NaN</td>\n",
       "    </tr>\n",
       "  </tbody>\n",
       "</table>\n",
       "</div>"
      ],
      "text/plain": [
       "          ID                            Name Sex   Age  Height  Weight  \\\n",
       "69995  35656              Stuart Fitzsimmons   M  19.0     NaN     NaN   \n",
       "69996  35656              Stuart Fitzsimmons   M  19.0     NaN     NaN   \n",
       "69997  35657  David Thomas \"Dave\" Fitzsimons   M  26.0   170.0    65.0   \n",
       "69998  35657  David Thomas \"Dave\" Fitzsimons   M  30.0   170.0    65.0   \n",
       "69999  35658                    Marek Fiurek   M  23.0   180.0    68.0   \n",
       "\n",
       "                 Team  NOC        Games  Year  Season       City  \\\n",
       "69995   Great Britain  GBR  1976 Winter  1976  Winter  Innsbruck   \n",
       "69996   Great Britain  GBR  1976 Winter  1976  Winter  Innsbruck   \n",
       "69997       Australia  AUS  1976 Summer  1976  Summer   Montreal   \n",
       "69998       Australia  AUS  1980 Summer  1980  Summer     Moskva   \n",
       "69999  Czech Republic  CZE  1998 Winter  1998  Winter     Nagano   \n",
       "\n",
       "                 Sport                             Event Medal  \n",
       "69995    Alpine Skiing  Alpine Skiing Men's Giant Slalom   NaN  \n",
       "69996    Alpine Skiing        Alpine Skiing Men's Slalom   NaN  \n",
       "69997        Athletics     Athletics Men's 10,000 metres   NaN  \n",
       "69998        Athletics      Athletics Men's 5,000 metres   NaN  \n",
       "69999  Nordic Combined        Nordic Combined Men's Team   NaN  "
      ]
     },
     "metadata": {},
     "output_type": "display_data"
    }
   ],
   "source": [
    "# Exibindo as primeiras linhas de um dataframe com head()\n",
    "# head(). exibe as primeiras linhas de um conjunto de dados\n",
    "print(\"Data Frame Olimpiadas\")\n",
    "display(df_olimpiadas.tail())"
   ]
  },
  {
   "cell_type": "code",
   "execution_count": 38,
   "id": "f2d7c5b7-387b-4796-af24-17e445d6b7f1",
   "metadata": {},
   "outputs": [
    {
     "name": "stdout",
     "output_type": "stream",
     "text": [
      "Data Frame Região\n"
     ]
    },
    {
     "data": {
      "text/html": [
       "<div>\n",
       "<style scoped>\n",
       "    .dataframe tbody tr th:only-of-type {\n",
       "        vertical-align: middle;\n",
       "    }\n",
       "\n",
       "    .dataframe tbody tr th {\n",
       "        vertical-align: top;\n",
       "    }\n",
       "\n",
       "    .dataframe thead th {\n",
       "        text-align: right;\n",
       "    }\n",
       "</style>\n",
       "<table border=\"1\" class=\"dataframe\">\n",
       "  <thead>\n",
       "    <tr style=\"text-align: right;\">\n",
       "      <th></th>\n",
       "      <th>noc_region</th>\n",
       "      <th>reg</th>\n",
       "      <th>notes</th>\n",
       "    </tr>\n",
       "  </thead>\n",
       "  <tbody>\n",
       "    <tr>\n",
       "      <th>225</th>\n",
       "      <td>YEM</td>\n",
       "      <td>Yemen</td>\n",
       "      <td>NaN</td>\n",
       "    </tr>\n",
       "    <tr>\n",
       "      <th>226</th>\n",
       "      <td>YMD</td>\n",
       "      <td>Yemen</td>\n",
       "      <td>South Yemen</td>\n",
       "    </tr>\n",
       "    <tr>\n",
       "      <th>227</th>\n",
       "      <td>YUG</td>\n",
       "      <td>Serbia</td>\n",
       "      <td>Yugoslavia</td>\n",
       "    </tr>\n",
       "    <tr>\n",
       "      <th>228</th>\n",
       "      <td>ZAM</td>\n",
       "      <td>Zambia</td>\n",
       "      <td>NaN</td>\n",
       "    </tr>\n",
       "    <tr>\n",
       "      <th>229</th>\n",
       "      <td>ZIM</td>\n",
       "      <td>Zimbabwe</td>\n",
       "      <td>NaN</td>\n",
       "    </tr>\n",
       "  </tbody>\n",
       "</table>\n",
       "</div>"
      ],
      "text/plain": [
       "    noc_region       reg        notes\n",
       "225        YEM     Yemen          NaN\n",
       "226        YMD     Yemen  South Yemen\n",
       "227        YUG    Serbia   Yugoslavia\n",
       "228        ZAM    Zambia          NaN\n",
       "229        ZIM  Zimbabwe          NaN"
      ]
     },
     "metadata": {},
     "output_type": "display_data"
    }
   ],
   "source": [
    "# Exibindo as últimas linhas de um dataframe com tail()\n",
    "# tail(). exibe as últimas linhas de um conjunto de dados\n",
    "print(\"Data Frame Região\")\n",
    "display(df_regiao.tail())"
   ]
  },
  {
   "cell_type": "code",
   "execution_count": 40,
   "id": "3b2435a9-e59b-43b3-b455-792e263cf3f2",
   "metadata": {},
   "outputs": [
    {
     "data": {
      "text/plain": [
       "(70000, 15)"
      ]
     },
     "metadata": {},
     "output_type": "display_data"
    },
    {
     "data": {
      "text/plain": [
       "(230, 3)"
      ]
     },
     "metadata": {},
     "output_type": "display_data"
    }
   ],
   "source": [
    "# Exibindo quantidade de linhas e colunas de um dataframe com shape\n",
    "# shape. exibe a quantidae de linhas e colunas de um conjunto de dados\n",
    "display(df_olimpiadas.shape)\n",
    "display(df_regiao.shape)"
   ]
  },
  {
   "cell_type": "code",
   "execution_count": 46,
   "id": "f7cb46aa-7539-49d5-b1cb-4171b045ac14",
   "metadata": {},
   "outputs": [
    {
     "data": {
      "text/html": [
       "<div>\n",
       "<style scoped>\n",
       "    .dataframe tbody tr th:only-of-type {\n",
       "        vertical-align: middle;\n",
       "    }\n",
       "\n",
       "    .dataframe tbody tr th {\n",
       "        vertical-align: top;\n",
       "    }\n",
       "\n",
       "    .dataframe thead th {\n",
       "        text-align: right;\n",
       "    }\n",
       "</style>\n",
       "<table border=\"1\" class=\"dataframe\">\n",
       "  <thead>\n",
       "    <tr style=\"text-align: right;\">\n",
       "      <th></th>\n",
       "      <th>noc_region</th>\n",
       "      <th>reg</th>\n",
       "      <th>notes</th>\n",
       "    </tr>\n",
       "  </thead>\n",
       "  <tbody>\n",
       "    <tr>\n",
       "      <th>count</th>\n",
       "      <td>230</td>\n",
       "      <td>227</td>\n",
       "      <td>21</td>\n",
       "    </tr>\n",
       "    <tr>\n",
       "      <th>unique</th>\n",
       "      <td>230</td>\n",
       "      <td>206</td>\n",
       "      <td>21</td>\n",
       "    </tr>\n",
       "    <tr>\n",
       "      <th>top</th>\n",
       "      <td>AFG</td>\n",
       "      <td>Germany</td>\n",
       "      <td>Netherlands Antilles</td>\n",
       "    </tr>\n",
       "    <tr>\n",
       "      <th>freq</th>\n",
       "      <td>1</td>\n",
       "      <td>4</td>\n",
       "      <td>1</td>\n",
       "    </tr>\n",
       "  </tbody>\n",
       "</table>\n",
       "</div>"
      ],
      "text/plain": [
       "       noc_region      reg                 notes\n",
       "count         230      227                    21\n",
       "unique        230      206                    21\n",
       "top           AFG  Germany  Netherlands Antilles\n",
       "freq            1        4                     1"
      ]
     },
     "execution_count": 46,
     "metadata": {},
     "output_type": "execute_result"
    }
   ],
   "source": [
    "# Apresentar estatísticas básicas das colunas do dataframe com describe()\n",
    "df_regiao.describe()\n",
    "# top: Valor mais frequente\n",
    "# freq: Somente dados categóricos\n",
    "# Dados categórico são dados que pode ser agrupado em categorias em vez de medido numericamente'''"
   ]
  },
  {
   "cell_type": "code",
   "execution_count": null,
   "id": "a79f477c-45db-49a7-af98-64c85c991d6f",
   "metadata": {},
   "outputs": [],
   "source": []
  }
 ],
 "metadata": {
  "kernelspec": {
   "display_name": "Python 3 (ipykernel)",
   "language": "python",
   "name": "python3"
  },
  "language_info": {
   "codemirror_mode": {
    "name": "ipython",
    "version": 3
   },
   "file_extension": ".py",
   "mimetype": "text/x-python",
   "name": "python",
   "nbconvert_exporter": "python",
   "pygments_lexer": "ipython3",
   "version": "3.12.4"
  }
 },
 "nbformat": 4,
 "nbformat_minor": 5
}
